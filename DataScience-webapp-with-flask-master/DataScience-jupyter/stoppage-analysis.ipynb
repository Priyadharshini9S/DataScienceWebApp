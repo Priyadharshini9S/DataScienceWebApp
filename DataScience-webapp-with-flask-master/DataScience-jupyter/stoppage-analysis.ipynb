{
 "cells": [
  {
   "cell_type": "code",
   "execution_count": 23,
   "id": "033bd157",
   "metadata": {},
   "outputs": [],
   "source": [
    "import pandas as pd\n",
    "import matplotlib.pyplot as mp"
   ]
  },
  {
   "cell_type": "code",
   "execution_count": 24,
   "id": "c5013124",
   "metadata": {},
   "outputs": [],
   "source": [
    "file = 'MII-dec-2022.xlsx'\n",
    "xl = pd.ExcelFile(file)\n",
    "# print(xl.sheet_names)\n",
    "df = xl.parse(xl.sheet_names[0])\n",
    "df.drop(df.tail(1).index,inplace=True) # drop last n rows\n",
    "# print(df1)"
   ]
  },
  {
   "cell_type": "code",
   "execution_count": 25,
   "id": "17aa5644",
   "metadata": {},
   "outputs": [],
   "source": [
    "# df1[['GC1','GC2']] = df1['Group code'].str.split(expand=True).add_prefix('visit_')\n",
    "temp = df.astype({'Group code':'string'})['Group code'].str.split(pat =\"\\\\s*\",expand=True).add_prefix('GC')\n",
    "df['GC1'] = pd.Series(temp['GC1'])\n",
    "df['GC2'] = pd.Series(temp['GC2'])\n",
    "# df1.describe"
   ]
  },
  {
   "cell_type": "code",
   "execution_count": 26,
   "id": "ef549490",
   "metadata": {},
   "outputs": [
    {
     "data": {
      "text/plain": [
       "<StringArray>\n",
       "['3', '1', '4', '6', '2', '9', '7', '5', '8', '0', <NA>]\n",
       "Length: 11, dtype: string"
      ]
     },
     "execution_count": 26,
     "metadata": {},
     "output_type": "execute_result"
    }
   ],
   "source": [
    "df['GC1'].unique()"
   ]
  },
  {
   "cell_type": "code",
   "execution_count": 27,
   "id": "b5eabbfc",
   "metadata": {},
   "outputs": [
    {
     "data": {
      "text/plain": [
       "<StringArray>\n",
       "['3', '8', '4', '5', '0', '1', '.', '6', '2', '7', <NA>, '9']\n",
       "Length: 12, dtype: string"
      ]
     },
     "execution_count": 27,
     "metadata": {},
     "output_type": "execute_result"
    }
   ],
   "source": [
    "df['GC2'].unique()"
   ]
  },
  {
   "cell_type": "code",
   "execution_count": 28,
   "id": "1840a92e",
   "metadata": {},
   "outputs": [
    {
     "data": {
      "text/plain": [
       "array(['Planned SME OH', 'BWE Electrical', 'Conveyor Vulcanising',\n",
       "       'Conveyor CMM', 'Planned Operation', 'BWE Operation',\n",
       "       'Planned VULCANSING', 'Conveyor Operation', 'Spreader Operation',\n",
       "       'MTC MM', 'Conveyor Electrical', 'BWE MM', 'Unplanned Vulcanising',\n",
       "       'Common Miscellaneous', 'Common Other', 'Conveyor CMRR',\n",
       "       'Unplanned MM', 'Tripper Operation', 'Unplanned MRR',\n",
       "       'Common Electrical', 'Planned Track shifting',\n",
       "       'Unplanned OPERATION', 'MTC Operation', 'Common Operation',\n",
       "       'MTC Electrical', 'Tripper CMM', 'Tripper Vulcanising',\n",
       "       'BWE VULCANSING', 'BWE MRR', nan, 'Unplanned ELECTRICAL',\n",
       "       'Spreader MM', 'Spreader Vulcanising', 'Unplanned SME', 'MTC MRR',\n",
       "       'Spreader Electrical', 'Stacker Operation', 'Stacker MM',\n",
       "       'Reclaimer Operation', 'Reclaimer MM', 'Reclaimer Vulcanising'],\n",
       "      dtype=object)"
      ]
     },
     "execution_count": 28,
     "metadata": {},
     "output_type": "execute_result"
    }
   ],
   "source": [
    "df['Group code text'].unique()\n",
    "#df1['Group code text'].unique().size"
   ]
  },
  {
   "cell_type": "code",
   "execution_count": 29,
   "id": "24477287",
   "metadata": {},
   "outputs": [
    {
     "data": {
      "text/html": [
       "<div>\n",
       "<style scoped>\n",
       "    .dataframe tbody tr th:only-of-type {\n",
       "        vertical-align: middle;\n",
       "    }\n",
       "\n",
       "    .dataframe tbody tr th {\n",
       "        vertical-align: top;\n",
       "    }\n",
       "\n",
       "    .dataframe thead th {\n",
       "        text-align: right;\n",
       "    }\n",
       "</style>\n",
       "<table border=\"1\" class=\"dataframe\">\n",
       "  <thead>\n",
       "    <tr style=\"text-align: right;\">\n",
       "      <th></th>\n",
       "      <th>Plant</th>\n",
       "      <th>Date</th>\n",
       "      <th>Shift</th>\n",
       "      <th>Material Number</th>\n",
       "      <th>Bench</th>\n",
       "      <th>BWE</th>\n",
       "      <th>TWH</th>\n",
       "      <th>EWH</th>\n",
       "      <th>Stoppage</th>\n",
       "      <th>BOUND HOURS</th>\n",
       "      <th>...</th>\n",
       "      <th>Time to</th>\n",
       "      <th>Duration</th>\n",
       "      <th>Group code</th>\n",
       "      <th>Cause code</th>\n",
       "      <th>Remarks</th>\n",
       "      <th>Group code text</th>\n",
       "      <th>Cause code text</th>\n",
       "      <th>GC1</th>\n",
       "      <th>GC2</th>\n",
       "      <th>DurInMin</th>\n",
       "    </tr>\n",
       "  </thead>\n",
       "  <tbody>\n",
       "    <tr>\n",
       "      <th>0</th>\n",
       "      <td>M002</td>\n",
       "      <td>2022-12-01</td>\n",
       "      <td>I</td>\n",
       "      <td>SF01OBURDEN</td>\n",
       "      <td>NSB</td>\n",
       "      <td>1420</td>\n",
       "      <td>00.00</td>\n",
       "      <td>00.00</td>\n",
       "      <td>08.00</td>\n",
       "      <td>0.0</td>\n",
       "      <td>...</td>\n",
       "      <td>1400.0</td>\n",
       "      <td>08.00</td>\n",
       "      <td>33.0</td>\n",
       "      <td>1.0</td>\n",
       "      <td>Over haul</td>\n",
       "      <td>Planned SME OH</td>\n",
       "      <td>Over haul</td>\n",
       "      <td>3</td>\n",
       "      <td>3</td>\n",
       "      <td>480</td>\n",
       "    </tr>\n",
       "    <tr>\n",
       "      <th>1</th>\n",
       "      <td>M002</td>\n",
       "      <td>2022-12-01</td>\n",
       "      <td>I</td>\n",
       "      <td>SF01OBURDEN</td>\n",
       "      <td>NSB</td>\n",
       "      <td>1422</td>\n",
       "      <td>01.00</td>\n",
       "      <td>01.00</td>\n",
       "      <td>07.00</td>\n",
       "      <td>0.0</td>\n",
       "      <td>...</td>\n",
       "      <td>800.0</td>\n",
       "      <td>02.00</td>\n",
       "      <td>18.0</td>\n",
       "      <td>17.0</td>\n",
       "      <td>BW boom hoisting &amp; lowering &amp; L/U Track moveme...</td>\n",
       "      <td>BWE Electrical</td>\n",
       "      <td>Hoisting/lowering trouble-ele.</td>\n",
       "      <td>1</td>\n",
       "      <td>8</td>\n",
       "      <td>120</td>\n",
       "    </tr>\n",
       "    <tr>\n",
       "      <th>2</th>\n",
       "      <td>M002</td>\n",
       "      <td>2022-12-01</td>\n",
       "      <td>I</td>\n",
       "      <td>SF01OBURDEN</td>\n",
       "      <td>NSB</td>\n",
       "      <td>1422</td>\n",
       "      <td>01.00</td>\n",
       "      <td>01.00</td>\n",
       "      <td>07.00</td>\n",
       "      <td>0.0</td>\n",
       "      <td>...</td>\n",
       "      <td>855.0</td>\n",
       "      <td>00.15</td>\n",
       "      <td>44.0</td>\n",
       "      <td>5.0</td>\n",
       "      <td>NS7 Center core cutting</td>\n",
       "      <td>Conveyor Vulcanising</td>\n",
       "      <td>Center core cutting</td>\n",
       "      <td>4</td>\n",
       "      <td>4</td>\n",
       "      <td>15</td>\n",
       "    </tr>\n",
       "    <tr>\n",
       "      <th>3</th>\n",
       "      <td>M002</td>\n",
       "      <td>2022-12-01</td>\n",
       "      <td>I</td>\n",
       "      <td>SF01OBURDEN</td>\n",
       "      <td>NSB</td>\n",
       "      <td>1422</td>\n",
       "      <td>01.00</td>\n",
       "      <td>01.00</td>\n",
       "      <td>07.00</td>\n",
       "      <td>0.0</td>\n",
       "      <td>...</td>\n",
       "      <td>930.0</td>\n",
       "      <td>00.15</td>\n",
       "      <td>45.0</td>\n",
       "      <td>1.0</td>\n",
       "      <td>NS7 Frame no : 38 Roller removal</td>\n",
       "      <td>Conveyor CMM</td>\n",
       "      <td>Line  roller changing/removal</td>\n",
       "      <td>4</td>\n",
       "      <td>5</td>\n",
       "      <td>15</td>\n",
       "    </tr>\n",
       "    <tr>\n",
       "      <th>4</th>\n",
       "      <td>M002</td>\n",
       "      <td>2022-12-01</td>\n",
       "      <td>I</td>\n",
       "      <td>SF01OBURDEN</td>\n",
       "      <td>NSB</td>\n",
       "      <td>1422</td>\n",
       "      <td>01.00</td>\n",
       "      <td>01.00</td>\n",
       "      <td>07.00</td>\n",
       "      <td>0.0</td>\n",
       "      <td>...</td>\n",
       "      <td>1330.0</td>\n",
       "      <td>04.00</td>\n",
       "      <td>30.0</td>\n",
       "      <td>2.0</td>\n",
       "      <td>Daily maintenance</td>\n",
       "      <td>Planned Operation</td>\n",
       "      <td>Daily maintenance</td>\n",
       "      <td>3</td>\n",
       "      <td>0</td>\n",
       "      <td>240</td>\n",
       "    </tr>\n",
       "    <tr>\n",
       "      <th>...</th>\n",
       "      <td>...</td>\n",
       "      <td>...</td>\n",
       "      <td>...</td>\n",
       "      <td>...</td>\n",
       "      <td>...</td>\n",
       "      <td>...</td>\n",
       "      <td>...</td>\n",
       "      <td>...</td>\n",
       "      <td>...</td>\n",
       "      <td>...</td>\n",
       "      <td>...</td>\n",
       "      <td>...</td>\n",
       "      <td>...</td>\n",
       "      <td>...</td>\n",
       "      <td>...</td>\n",
       "      <td>...</td>\n",
       "      <td>...</td>\n",
       "      <td>...</td>\n",
       "      <td>...</td>\n",
       "      <td>...</td>\n",
       "      <td>...</td>\n",
       "    </tr>\n",
       "    <tr>\n",
       "      <th>4177</th>\n",
       "      <td>M002</td>\n",
       "      <td>2022-12-31</td>\n",
       "      <td>II</td>\n",
       "      <td>FG01LIGNITE</td>\n",
       "      <td>LHS</td>\n",
       "      <td>REC2</td>\n",
       "      <td>03.00</td>\n",
       "      <td>03.00</td>\n",
       "      <td>05.00</td>\n",
       "      <td>0.0</td>\n",
       "      <td>...</td>\n",
       "      <td>2200.0</td>\n",
       "      <td>03.30</td>\n",
       "      <td>7.0</td>\n",
       "      <td>99.0</td>\n",
       "      <td>stand by</td>\n",
       "      <td>Common Miscellaneous</td>\n",
       "      <td>Others</td>\n",
       "      <td>7</td>\n",
       "      <td>.</td>\n",
       "      <td>210</td>\n",
       "    </tr>\n",
       "    <tr>\n",
       "      <th>4178</th>\n",
       "      <td>M002</td>\n",
       "      <td>2022-12-31</td>\n",
       "      <td>III</td>\n",
       "      <td>FG01LIGNITE</td>\n",
       "      <td>LHS</td>\n",
       "      <td>1231</td>\n",
       "      <td>00.00</td>\n",
       "      <td>00.00</td>\n",
       "      <td>08.00</td>\n",
       "      <td>0.0</td>\n",
       "      <td>...</td>\n",
       "      <td>600.0</td>\n",
       "      <td>08.00</td>\n",
       "      <td>7.0</td>\n",
       "      <td>99.0</td>\n",
       "      <td>Stand by</td>\n",
       "      <td>Common Miscellaneous</td>\n",
       "      <td>Others</td>\n",
       "      <td>7</td>\n",
       "      <td>.</td>\n",
       "      <td>480</td>\n",
       "    </tr>\n",
       "    <tr>\n",
       "      <th>4179</th>\n",
       "      <td>M002</td>\n",
       "      <td>2022-12-31</td>\n",
       "      <td>III</td>\n",
       "      <td>FG01LIGNITE</td>\n",
       "      <td>LHS</td>\n",
       "      <td>REC1</td>\n",
       "      <td>00.00</td>\n",
       "      <td>00.00</td>\n",
       "      <td>08.00</td>\n",
       "      <td>0.0</td>\n",
       "      <td>...</td>\n",
       "      <td>600.0</td>\n",
       "      <td>08.00</td>\n",
       "      <td>7.0</td>\n",
       "      <td>99.0</td>\n",
       "      <td>stand by</td>\n",
       "      <td>Common Miscellaneous</td>\n",
       "      <td>Others</td>\n",
       "      <td>7</td>\n",
       "      <td>.</td>\n",
       "      <td>480</td>\n",
       "    </tr>\n",
       "    <tr>\n",
       "      <th>4180</th>\n",
       "      <td>M002</td>\n",
       "      <td>2022-12-31</td>\n",
       "      <td>III</td>\n",
       "      <td>FG01LIGNITE</td>\n",
       "      <td>LHS</td>\n",
       "      <td>REC2</td>\n",
       "      <td>03.00</td>\n",
       "      <td>03.00</td>\n",
       "      <td>05.00</td>\n",
       "      <td>0.0</td>\n",
       "      <td>...</td>\n",
       "      <td>2315.0</td>\n",
       "      <td>01.15</td>\n",
       "      <td>7.0</td>\n",
       "      <td>99.0</td>\n",
       "      <td>stand by</td>\n",
       "      <td>Common Miscellaneous</td>\n",
       "      <td>Others</td>\n",
       "      <td>7</td>\n",
       "      <td>.</td>\n",
       "      <td>75</td>\n",
       "    </tr>\n",
       "    <tr>\n",
       "      <th>4181</th>\n",
       "      <td>M002</td>\n",
       "      <td>2022-12-31</td>\n",
       "      <td>III</td>\n",
       "      <td>FG01LIGNITE</td>\n",
       "      <td>LHS</td>\n",
       "      <td>REC2</td>\n",
       "      <td>03.00</td>\n",
       "      <td>03.00</td>\n",
       "      <td>05.00</td>\n",
       "      <td>0.0</td>\n",
       "      <td>...</td>\n",
       "      <td>600.0</td>\n",
       "      <td>03.45</td>\n",
       "      <td>7.0</td>\n",
       "      <td>99.0</td>\n",
       "      <td>stand by</td>\n",
       "      <td>Common Miscellaneous</td>\n",
       "      <td>Others</td>\n",
       "      <td>7</td>\n",
       "      <td>.</td>\n",
       "      <td>225</td>\n",
       "    </tr>\n",
       "  </tbody>\n",
       "</table>\n",
       "<p>4168 rows × 21 columns</p>\n",
       "</div>"
      ],
      "text/plain": [
       "     Plant       Date Shift Material Number Bench   BWE    TWH    EWH  \\\n",
       "0     M002 2022-12-01     I     SF01OBURDEN   NSB  1420  00.00  00.00   \n",
       "1     M002 2022-12-01     I     SF01OBURDEN   NSB  1422  01.00  01.00   \n",
       "2     M002 2022-12-01     I     SF01OBURDEN   NSB  1422  01.00  01.00   \n",
       "3     M002 2022-12-01     I     SF01OBURDEN   NSB  1422  01.00  01.00   \n",
       "4     M002 2022-12-01     I     SF01OBURDEN   NSB  1422  01.00  01.00   \n",
       "...    ...        ...   ...             ...   ...   ...    ...    ...   \n",
       "4177  M002 2022-12-31    II     FG01LIGNITE   LHS  REC2  03.00  03.00   \n",
       "4178  M002 2022-12-31   III     FG01LIGNITE   LHS  1231  00.00  00.00   \n",
       "4179  M002 2022-12-31   III     FG01LIGNITE   LHS  REC1  00.00  00.00   \n",
       "4180  M002 2022-12-31   III     FG01LIGNITE   LHS  REC2  03.00  03.00   \n",
       "4181  M002 2022-12-31   III     FG01LIGNITE   LHS  REC2  03.00  03.00   \n",
       "\n",
       "     Stoppage  BOUND HOURS  ...  Time to  Duration Group code  Cause code  \\\n",
       "0       08.00          0.0  ...   1400.0     08.00       33.0         1.0   \n",
       "1       07.00          0.0  ...    800.0     02.00       18.0        17.0   \n",
       "2       07.00          0.0  ...    855.0     00.15       44.0         5.0   \n",
       "3       07.00          0.0  ...    930.0     00.15       45.0         1.0   \n",
       "4       07.00          0.0  ...   1330.0     04.00       30.0         2.0   \n",
       "...       ...          ...  ...      ...       ...        ...         ...   \n",
       "4177    05.00          0.0  ...   2200.0     03.30        7.0        99.0   \n",
       "4178    08.00          0.0  ...    600.0     08.00        7.0        99.0   \n",
       "4179    08.00          0.0  ...    600.0     08.00        7.0        99.0   \n",
       "4180    05.00          0.0  ...   2315.0     01.15        7.0        99.0   \n",
       "4181    05.00          0.0  ...    600.0     03.45        7.0        99.0   \n",
       "\n",
       "                                                Remarks       Group code text  \\\n",
       "0                                             Over haul        Planned SME OH   \n",
       "1     BW boom hoisting & lowering & L/U Track moveme...        BWE Electrical   \n",
       "2                               NS7 Center core cutting  Conveyor Vulcanising   \n",
       "3                      NS7 Frame no : 38 Roller removal          Conveyor CMM   \n",
       "4                                     Daily maintenance     Planned Operation   \n",
       "...                                                 ...                   ...   \n",
       "4177                                           stand by  Common Miscellaneous   \n",
       "4178                                           Stand by  Common Miscellaneous   \n",
       "4179                                           stand by  Common Miscellaneous   \n",
       "4180                                           stand by  Common Miscellaneous   \n",
       "4181                                           stand by  Common Miscellaneous   \n",
       "\n",
       "                     Cause code text GC1 GC2 DurInMin  \n",
       "0                          Over haul   3   3      480  \n",
       "1     Hoisting/lowering trouble-ele.   1   8      120  \n",
       "2                Center core cutting   4   4       15  \n",
       "3      Line  roller changing/removal   4   5       15  \n",
       "4                  Daily maintenance   3   0      240  \n",
       "...                              ...  ..  ..      ...  \n",
       "4177                          Others   7   .      210  \n",
       "4178                          Others   7   .      480  \n",
       "4179                          Others   7   .      480  \n",
       "4180                          Others   7   .       75  \n",
       "4181                          Others   7   .      225  \n",
       "\n",
       "[4168 rows x 21 columns]"
      ]
     },
     "execution_count": 29,
     "metadata": {},
     "output_type": "execute_result"
    }
   ],
   "source": [
    "# df1['Group code text'] = df1['Group code text'].fillna(\"\")\n",
    "df = df.dropna(axis=0, subset=['Duration'])\n",
    "df = df.dropna(axis=0, subset=['Group code text'])\n",
    "\n",
    "#df['GCText1'] = df.apply(lambda row: row['Group code text'].split(\" \", 1)[0].strip().upper(), axis=1)\n",
    "#df['GCText2'] = df.apply(lambda row: row['Group code text'].split(\" \", 1)[len(row['Group code text'].split(\" \", 1))-1].strip().upper(), axis=1)\n",
    "# df1 = df1[df1['GCText1'] != 'PLANNED']\n",
    "\n",
    "def calculateMin(x):\n",
    "    arr = x.split('.')\n",
    "    if arr[0] != '' and arr[1] != '':\n",
    "        return int(arr[0])*60 + int(arr[1])\n",
    "    else:\n",
    "        return 0\n",
    "df['DurInMin'] = df.apply(lambda row: calculateMin(row['Duration']), axis=1)\n",
    "df"
   ]
  },
  {
   "attachments": {},
   "cell_type": "markdown",
   "id": "9da6d95c",
   "metadata": {},
   "source": []
  },
  {
   "cell_type": "code",
   "execution_count": 30,
   "id": "1e173223",
   "metadata": {},
   "outputs": [
    {
     "data": {
      "text/plain": [
       "GC1  Group code text       \n",
       "4    Conveyor Vulcanising      1039\n",
       "7    Common Miscellaneous       622\n",
       "1    BWE Operation              611\n",
       "3    Planned Operation          344\n",
       "4    Conveyor CMM               307\n",
       "     Conveyor Operation         231\n",
       "9    Common Other               155\n",
       "     Unplanned Vulcanising      109\n",
       "3    Planned Track shifting     103\n",
       "     Planned SME OH              94\n",
       "dtype: int64"
      ]
     },
     "execution_count": 30,
     "metadata": {},
     "output_type": "execute_result"
    }
   ],
   "source": [
    "df.groupby(['GC1', 'Group code text']).size().nlargest(10)"
   ]
  },
  {
   "cell_type": "code",
   "execution_count": 31,
   "id": "b262a8b3",
   "metadata": {},
   "outputs": [
    {
     "data": {
      "text/plain": [
       "GC2  Group code text       \n",
       "4    Conveyor Vulcanising      1039\n",
       ".    Common Miscellaneous       622\n",
       "0    BWE Operation              611\n",
       "     Planned Operation          344\n",
       "5    Conveyor CMM               307\n",
       "0    Conveyor Operation         231\n",
       ".    Common Other               155\n",
       "4    Unplanned Vulcanising      109\n",
       "7    Planned Track shifting     103\n",
       "3    Planned SME OH              94\n",
       "dtype: int64"
      ]
     },
     "execution_count": 31,
     "metadata": {},
     "output_type": "execute_result"
    }
   ],
   "source": [
    "df.groupby(['GC2', 'Group code text']).size().nlargest(10)"
   ]
  },
  {
   "cell_type": "code",
   "execution_count": 32,
   "id": "62b09213",
   "metadata": {},
   "outputs": [
    {
     "data": {
      "text/plain": [
       "Cause code  Cause code text              \n",
       "99.0        Others                           577\n",
       "9.0         BTR Clamp fixing                 550\n",
       "2.0         Daily maintenance                344\n",
       "12.0        BWE Repostioning/movement        318\n",
       "1.0         BWE Track Area Preparation       238\n",
       "            Line  roller changing/removal    231\n",
       "21.0        Machine on Stand-By              189\n",
       "5.0         Center core cutting              160\n",
       "1.0         OB Rear load                     152\n",
       "5.0         TE cleaning                      118\n",
       "dtype: int64"
      ]
     },
     "execution_count": 32,
     "metadata": {},
     "output_type": "execute_result"
    }
   ],
   "source": [
    "df.groupby(['Cause code', 'Cause code text']).size().nlargest(10)"
   ]
  },
  {
   "cell_type": "code",
   "execution_count": 33,
   "id": "3f94b362",
   "metadata": {},
   "outputs": [
    {
     "data": {
      "text/html": [
       "<div>\n",
       "<style scoped>\n",
       "    .dataframe tbody tr th:only-of-type {\n",
       "        vertical-align: middle;\n",
       "    }\n",
       "\n",
       "    .dataframe tbody tr th {\n",
       "        vertical-align: top;\n",
       "    }\n",
       "\n",
       "    .dataframe thead th {\n",
       "        text-align: right;\n",
       "    }\n",
       "</style>\n",
       "<table border=\"1\" class=\"dataframe\">\n",
       "  <thead>\n",
       "    <tr style=\"text-align: right;\">\n",
       "      <th></th>\n",
       "      <th>GC1</th>\n",
       "      <th>Group code text</th>\n",
       "      <th>DurInMin</th>\n",
       "      <th>FreqCount</th>\n",
       "    </tr>\n",
       "  </thead>\n",
       "  <tbody>\n",
       "    <tr>\n",
       "      <th>0</th>\n",
       "      <td>1</td>\n",
       "      <td>BWE Operation</td>\n",
       "      <td>30</td>\n",
       "      <td>303</td>\n",
       "    </tr>\n",
       "    <tr>\n",
       "      <th>1</th>\n",
       "      <td>3</td>\n",
       "      <td>Planned Operation</td>\n",
       "      <td>120</td>\n",
       "      <td>266</td>\n",
       "    </tr>\n",
       "    <tr>\n",
       "      <th>2</th>\n",
       "      <td>4</td>\n",
       "      <td>Conveyor Vulcanising</td>\n",
       "      <td>15</td>\n",
       "      <td>177</td>\n",
       "    </tr>\n",
       "    <tr>\n",
       "      <th>3</th>\n",
       "      <td>4</td>\n",
       "      <td>Conveyor Vulcanising</td>\n",
       "      <td>30</td>\n",
       "      <td>177</td>\n",
       "    </tr>\n",
       "    <tr>\n",
       "      <th>4</th>\n",
       "      <td>4</td>\n",
       "      <td>Conveyor Vulcanising</td>\n",
       "      <td>60</td>\n",
       "      <td>142</td>\n",
       "    </tr>\n",
       "    <tr>\n",
       "      <th>5</th>\n",
       "      <td>7</td>\n",
       "      <td>Common Miscellaneous</td>\n",
       "      <td>480</td>\n",
       "      <td>137</td>\n",
       "    </tr>\n",
       "    <tr>\n",
       "      <th>6</th>\n",
       "      <td>4</td>\n",
       "      <td>Conveyor CMM</td>\n",
       "      <td>30</td>\n",
       "      <td>109</td>\n",
       "    </tr>\n",
       "    <tr>\n",
       "      <th>7</th>\n",
       "      <td>3</td>\n",
       "      <td>Planned SME OH</td>\n",
       "      <td>480</td>\n",
       "      <td>94</td>\n",
       "    </tr>\n",
       "    <tr>\n",
       "      <th>8</th>\n",
       "      <td>4</td>\n",
       "      <td>Conveyor CMM</td>\n",
       "      <td>15</td>\n",
       "      <td>91</td>\n",
       "    </tr>\n",
       "    <tr>\n",
       "      <th>9</th>\n",
       "      <td>4</td>\n",
       "      <td>Conveyor Vulcanising</td>\n",
       "      <td>90</td>\n",
       "      <td>91</td>\n",
       "    </tr>\n",
       "  </tbody>\n",
       "</table>\n",
       "</div>"
      ],
      "text/plain": [
       "  GC1       Group code text  DurInMin  FreqCount\n",
       "0   1         BWE Operation        30        303\n",
       "1   3     Planned Operation       120        266\n",
       "2   4  Conveyor Vulcanising        15        177\n",
       "3   4  Conveyor Vulcanising        30        177\n",
       "4   4  Conveyor Vulcanising        60        142\n",
       "5   7  Common Miscellaneous       480        137\n",
       "6   4          Conveyor CMM        30        109\n",
       "7   3        Planned SME OH       480         94\n",
       "8   4          Conveyor CMM        15         91\n",
       "9   4  Conveyor Vulcanising        90         91"
      ]
     },
     "execution_count": 33,
     "metadata": {},
     "output_type": "execute_result"
    }
   ],
   "source": [
    "df2= df.groupby(['GC1', 'Group code text','DurInMin']).size().nlargest(10).reset_index(name ='FreqCount')\n",
    "df2"
   ]
  },
  {
   "cell_type": "code",
   "execution_count": 34,
   "id": "2d943061",
   "metadata": {},
   "outputs": [
    {
     "data": {
      "text/html": [
       "<div>\n",
       "<style scoped>\n",
       "    .dataframe tbody tr th:only-of-type {\n",
       "        vertical-align: middle;\n",
       "    }\n",
       "\n",
       "    .dataframe tbody tr th {\n",
       "        vertical-align: top;\n",
       "    }\n",
       "\n",
       "    .dataframe thead th {\n",
       "        text-align: right;\n",
       "    }\n",
       "</style>\n",
       "<table border=\"1\" class=\"dataframe\">\n",
       "  <thead>\n",
       "    <tr style=\"text-align: right;\">\n",
       "      <th></th>\n",
       "      <th>GC1</th>\n",
       "      <th>Group code text</th>\n",
       "      <th>DurSum</th>\n",
       "      <th>FreqCount</th>\n",
       "    </tr>\n",
       "  </thead>\n",
       "  <tbody>\n",
       "    <tr>\n",
       "      <th>0</th>\n",
       "      <td>7</td>\n",
       "      <td>Common Miscellaneous</td>\n",
       "      <td>103505</td>\n",
       "      <td>622</td>\n",
       "    </tr>\n",
       "    <tr>\n",
       "      <th>1</th>\n",
       "      <td>4</td>\n",
       "      <td>Conveyor Vulcanising</td>\n",
       "      <td>75225</td>\n",
       "      <td>1039</td>\n",
       "    </tr>\n",
       "    <tr>\n",
       "      <th>2</th>\n",
       "      <td>9</td>\n",
       "      <td>Unplanned Vulcanising</td>\n",
       "      <td>46770</td>\n",
       "      <td>109</td>\n",
       "    </tr>\n",
       "    <tr>\n",
       "      <th>3</th>\n",
       "      <td>3</td>\n",
       "      <td>Planned Track shifting</td>\n",
       "      <td>45930</td>\n",
       "      <td>103</td>\n",
       "    </tr>\n",
       "    <tr>\n",
       "      <th>4</th>\n",
       "      <td>3</td>\n",
       "      <td>Planned SME OH</td>\n",
       "      <td>45120</td>\n",
       "      <td>94</td>\n",
       "    </tr>\n",
       "    <tr>\n",
       "      <th>5</th>\n",
       "      <td>3</td>\n",
       "      <td>Planned Operation</td>\n",
       "      <td>43500</td>\n",
       "      <td>344</td>\n",
       "    </tr>\n",
       "    <tr>\n",
       "      <th>6</th>\n",
       "      <td>9</td>\n",
       "      <td>Common Other</td>\n",
       "      <td>34150</td>\n",
       "      <td>155</td>\n",
       "    </tr>\n",
       "    <tr>\n",
       "      <th>7</th>\n",
       "      <td>1</td>\n",
       "      <td>BWE Operation</td>\n",
       "      <td>23030</td>\n",
       "      <td>611</td>\n",
       "    </tr>\n",
       "    <tr>\n",
       "      <th>8</th>\n",
       "      <td>4</td>\n",
       "      <td>Conveyor Operation</td>\n",
       "      <td>12490</td>\n",
       "      <td>231</td>\n",
       "    </tr>\n",
       "  </tbody>\n",
       "</table>\n",
       "</div>"
      ],
      "text/plain": [
       "  GC1         Group code text  DurSum  FreqCount\n",
       "0   7    Common Miscellaneous  103505        622\n",
       "1   4    Conveyor Vulcanising   75225       1039\n",
       "2   9   Unplanned Vulcanising   46770        109\n",
       "3   3  Planned Track shifting   45930        103\n",
       "4   3          Planned SME OH   45120         94\n",
       "5   3       Planned Operation   43500        344\n",
       "6   9            Common Other   34150        155\n",
       "7   1           BWE Operation   23030        611\n",
       "8   4      Conveyor Operation   12490        231"
      ]
     },
     "execution_count": 34,
     "metadata": {},
     "output_type": "execute_result"
    }
   ],
   "source": [
    "tmp1= df.groupby(['GC1', 'Group code text'])['DurInMin'].sum().nlargest(10).reset_index(name ='DurSum')\n",
    "tmp2= df.groupby(['GC1', 'Group code text']).size().nlargest(10).reset_index(name ='FreqCount')\n",
    "df2 = tmp1.merge(tmp2,on=['GC1', 'Group code text'],how=\"inner\")\n",
    "df2"
   ]
  },
  {
   "cell_type": "code",
   "execution_count": 35,
   "id": "92bc69f0",
   "metadata": {},
   "outputs": [],
   "source": [
    "df2 = df.groupby(['Group code text','Cause code'])['DurInMin'].sum().nlargest(10).reset_index(name ='DurSum')"
   ]
  },
  {
   "cell_type": "code",
   "execution_count": 36,
   "id": "0f6824dd",
   "metadata": {},
   "outputs": [
    {
     "data": {
      "image/png": "[encoded data removed]",
      "text/plain": [
       "<Figure size 900x800 with 1 Axes>"
      ]
     },
     "metadata": {},
     "output_type": "display_data"
    }
   ],
   "source": [
    "# plot the dataframe\n",
    "df2.plot(x='Group code text', y=['DurSum'], kind=\"bar\", figsize=(9, 8))\n",
    "mp.show()"
   ]
  },
  {
   "cell_type": "code",
   "execution_count": 37,
   "id": "63374776",
   "metadata": {},
   "outputs": [
    {
     "data": {
      "image/png": "[encoded data removed]",
      "text/plain": [
       "<Figure size 900x800 with 1 Axes>"
      ]
     },
     "metadata": {},
     "output_type": "display_data"
    }
   ],
   "source": [
    "# plot the dataframe\n",
    "df2.plot(x='Group code text', y=['Cause code'], kind=\"bar\", figsize=(9, 8))\n",
    "mp.show()"
   ]
  },
  {
   "cell_type": "code",
   "execution_count": 38,
   "id": "a7bc9e02",
   "metadata": {},
   "outputs": [
    {
     "data": {
      "text/html": [
       "<div>\n",
       "<style scoped>\n",
       "    .dataframe tbody tr th:only-of-type {\n",
       "        vertical-align: middle;\n",
       "    }\n",
       "\n",
       "    .dataframe tbody tr th {\n",
       "        vertical-align: top;\n",
       "    }\n",
       "\n",
       "    .dataframe thead th {\n",
       "        text-align: right;\n",
       "    }\n",
       "</style>\n",
       "<table border=\"1\" class=\"dataframe\">\n",
       "  <thead>\n",
       "    <tr style=\"text-align: right;\">\n",
       "      <th></th>\n",
       "      <th>Cause code text</th>\n",
       "      <th>DurInMin</th>\n",
       "    </tr>\n",
       "  </thead>\n",
       "  <tbody>\n",
       "    <tr>\n",
       "      <th>0</th>\n",
       "      <td>Machine on Stand-By</td>\n",
       "      <td>73445</td>\n",
       "    </tr>\n",
       "    <tr>\n",
       "      <th>1</th>\n",
       "      <td>Others</td>\n",
       "      <td>49715</td>\n",
       "    </tr>\n",
       "    <tr>\n",
       "      <th>2</th>\n",
       "      <td>Conveyor unplanned vulcanising</td>\n",
       "      <td>45810</td>\n",
       "    </tr>\n",
       "    <tr>\n",
       "      <th>3</th>\n",
       "      <td>Over haul</td>\n",
       "      <td>45120</td>\n",
       "    </tr>\n",
       "    <tr>\n",
       "      <th>4</th>\n",
       "      <td>BTR Clamp fixing</td>\n",
       "      <td>44165</td>\n",
       "    </tr>\n",
       "    <tr>\n",
       "      <th>5</th>\n",
       "      <td>Daily maintenance</td>\n",
       "      <td>43500</td>\n",
       "    </tr>\n",
       "    <tr>\n",
       "      <th>6</th>\n",
       "      <td>Shifting</td>\n",
       "      <td>42840</td>\n",
       "    </tr>\n",
       "    <tr>\n",
       "      <th>7</th>\n",
       "      <td>OB Rear load</td>\n",
       "      <td>33845</td>\n",
       "    </tr>\n",
       "    <tr>\n",
       "      <th>8</th>\n",
       "      <td>Conveyor planned vulcanising works</td>\n",
       "      <td>26760</td>\n",
       "    </tr>\n",
       "    <tr>\n",
       "      <th>9</th>\n",
       "      <td>BWE Repostioning/movement</td>\n",
       "      <td>11435</td>\n",
       "    </tr>\n",
       "  </tbody>\n",
       "</table>\n",
       "</div>"
      ],
      "text/plain": [
       "                      Cause code text  DurInMin\n",
       "0                 Machine on Stand-By     73445\n",
       "1                              Others     49715\n",
       "2      Conveyor unplanned vulcanising     45810\n",
       "3                           Over haul     45120\n",
       "4                    BTR Clamp fixing     44165\n",
       "5                   Daily maintenance     43500\n",
       "6                            Shifting     42840\n",
       "7                        OB Rear load     33845\n",
       "8  Conveyor planned vulcanising works     26760\n",
       "9           BWE Repostioning/movement     11435"
      ]
     },
     "execution_count": 38,
     "metadata": {},
     "output_type": "execute_result"
    }
   ],
   "source": [
    "df3 = df.groupby(['Cause code text'])['DurInMin'].sum().nlargest(10).reset_index(name ='DurInMin')\n",
    "df3"
   ]
  },
  {
   "cell_type": "code",
   "execution_count": 39,
   "id": "d9d8d46c",
   "metadata": {},
   "outputs": [
    {
     "data": {
      "image/png": "[encoded data removed]",
      "text/plain": [
       "<Figure size 900x800 with 1 Axes>"
      ]
     },
     "metadata": {},
     "output_type": "display_data"
    }
   ],
   "source": [
    "# plot the dataframe\n",
    "df3.plot(x='Cause code text', y=['DurInMin'], kind=\"bar\", figsize=(9, 8))\n",
    "mp.show()"
   ]
  },
  {
   "cell_type": "code",
   "execution_count": 40,
   "id": "c742a722",
   "metadata": {},
   "outputs": [
    {
     "data": {
      "text/html": [
       "<div>\n",
       "<style scoped>\n",
       "    .dataframe tbody tr th:only-of-type {\n",
       "        vertical-align: middle;\n",
       "    }\n",
       "\n",
       "    .dataframe tbody tr th {\n",
       "        vertical-align: top;\n",
       "    }\n",
       "\n",
       "    .dataframe thead th {\n",
       "        text-align: right;\n",
       "    }\n",
       "</style>\n",
       "<table border=\"1\" class=\"dataframe\">\n",
       "  <thead>\n",
       "    <tr style=\"text-align: right;\">\n",
       "      <th></th>\n",
       "      <th>Cause code</th>\n",
       "      <th>DurSum</th>\n",
       "    </tr>\n",
       "  </thead>\n",
       "  <tbody>\n",
       "    <tr>\n",
       "      <th>0</th>\n",
       "      <td>1.0</td>\n",
       "      <td>131410</td>\n",
       "    </tr>\n",
       "    <tr>\n",
       "      <th>1</th>\n",
       "      <td>4.0</td>\n",
       "      <td>126215</td>\n",
       "    </tr>\n",
       "    <tr>\n",
       "      <th>2</th>\n",
       "      <td>21.0</td>\n",
       "      <td>73445</td>\n",
       "    </tr>\n",
       "    <tr>\n",
       "      <th>3</th>\n",
       "      <td>99.0</td>\n",
       "      <td>55945</td>\n",
       "    </tr>\n",
       "    <tr>\n",
       "      <th>4</th>\n",
       "      <td>2.0</td>\n",
       "      <td>50435</td>\n",
       "    </tr>\n",
       "    <tr>\n",
       "      <th>5</th>\n",
       "      <td>9.0</td>\n",
       "      <td>44950</td>\n",
       "    </tr>\n",
       "    <tr>\n",
       "      <th>6</th>\n",
       "      <td>12.0</td>\n",
       "      <td>15760</td>\n",
       "    </tr>\n",
       "    <tr>\n",
       "      <th>7</th>\n",
       "      <td>5.0</td>\n",
       "      <td>11365</td>\n",
       "    </tr>\n",
       "    <tr>\n",
       "      <th>8</th>\n",
       "      <td>16.0</td>\n",
       "      <td>5265</td>\n",
       "    </tr>\n",
       "    <tr>\n",
       "      <th>9</th>\n",
       "      <td>17.0</td>\n",
       "      <td>3240</td>\n",
       "    </tr>\n",
       "  </tbody>\n",
       "</table>\n",
       "</div>"
      ],
      "text/plain": [
       "   Cause code  DurSum\n",
       "0         1.0  131410\n",
       "1         4.0  126215\n",
       "2        21.0   73445\n",
       "3        99.0   55945\n",
       "4         2.0   50435\n",
       "5         9.0   44950\n",
       "6        12.0   15760\n",
       "7         5.0   11365\n",
       "8        16.0    5265\n",
       "9        17.0    3240"
      ]
     },
     "execution_count": 40,
     "metadata": {},
     "output_type": "execute_result"
    }
   ],
   "source": [
    "df4 = df.groupby(['Cause code'])['DurInMin'].sum().nlargest(10).reset_index(name ='DurSum')\n",
    "df4"
   ]
  },
  {
   "cell_type": "code",
   "execution_count": 48,
   "id": "40d618d1",
   "metadata": {},
   "outputs": [
    {
     "data": {
      "image/png": "[encoded data removed]",
      "text/plain": [
       "<Figure size 900x800 with 1 Axes>"
      ]
     },
     "metadata": {},
     "output_type": "display_data"
    }
   ],
   "source": [
    "# plot the dataframe\n",
    "df4.plot(x='Cause code', y=['DurSum'], kind=\"bar\", figsize=(9, 8))\n",
    "mp.show()"
   ]
  },
  {
   "cell_type": "code",
   "execution_count": 50,
   "id": "ef31b29d",
   "metadata": {},
   "outputs": [
    {
     "data": {
      "text/html": [
       "<div>\n",
       "<style scoped>\n",
       "    .dataframe tbody tr th:only-of-type {\n",
       "        vertical-align: middle;\n",
       "    }\n",
       "\n",
       "    .dataframe tbody tr th {\n",
       "        vertical-align: top;\n",
       "    }\n",
       "\n",
       "    .dataframe thead th {\n",
       "        text-align: right;\n",
       "    }\n",
       "</style>\n",
       "<table border=\"1\" class=\"dataframe\">\n",
       "  <thead>\n",
       "    <tr style=\"text-align: right;\">\n",
       "      <th></th>\n",
       "      <th>Group code</th>\n",
       "      <th>DurSum</th>\n",
       "    </tr>\n",
       "  </thead>\n",
       "  <tbody>\n",
       "    <tr>\n",
       "      <th>0</th>\n",
       "      <td>7.0</td>\n",
       "      <td>103505</td>\n",
       "    </tr>\n",
       "    <tr>\n",
       "      <th>1</th>\n",
       "      <td>44.0</td>\n",
       "      <td>75225</td>\n",
       "    </tr>\n",
       "    <tr>\n",
       "      <th>2</th>\n",
       "      <td>94.0</td>\n",
       "      <td>46770</td>\n",
       "    </tr>\n",
       "    <tr>\n",
       "      <th>3</th>\n",
       "      <td>37.0</td>\n",
       "      <td>45930</td>\n",
       "    </tr>\n",
       "    <tr>\n",
       "      <th>4</th>\n",
       "      <td>33.0</td>\n",
       "      <td>45120</td>\n",
       "    </tr>\n",
       "    <tr>\n",
       "      <th>5</th>\n",
       "      <td>30.0</td>\n",
       "      <td>43500</td>\n",
       "    </tr>\n",
       "    <tr>\n",
       "      <th>6</th>\n",
       "      <td>34.0</td>\n",
       "      <td>37470</td>\n",
       "    </tr>\n",
       "    <tr>\n",
       "      <th>7</th>\n",
       "      <td>9.0</td>\n",
       "      <td>34150</td>\n",
       "    </tr>\n",
       "    <tr>\n",
       "      <th>8</th>\n",
       "      <td>10.0</td>\n",
       "      <td>23030</td>\n",
       "    </tr>\n",
       "    <tr>\n",
       "      <th>9</th>\n",
       "      <td>40.0</td>\n",
       "      <td>12490</td>\n",
       "    </tr>\n",
       "  </tbody>\n",
       "</table>\n",
       "</div>"
      ],
      "text/plain": [
       "   Group code  DurSum\n",
       "0         7.0  103505\n",
       "1        44.0   75225\n",
       "2        94.0   46770\n",
       "3        37.0   45930\n",
       "4        33.0   45120\n",
       "5        30.0   43500\n",
       "6        34.0   37470\n",
       "7         9.0   34150\n",
       "8        10.0   23030\n",
       "9        40.0   12490"
      ]
     },
     "execution_count": 50,
     "metadata": {},
     "output_type": "execute_result"
    }
   ],
   "source": [
    "df5 = df.groupby(['Group code'])['DurInMin'].sum().nlargest(10).reset_index(name ='DurSum')\n",
    "df5"
   ]
  },
  {
   "cell_type": "code",
   "execution_count": 51,
   "id": "380e554f",
   "metadata": {},
   "outputs": [
    {
     "data": {
      "image/png": "[encoded data removed]",
      "text/plain": [
       "<Figure size 900x800 with 1 Axes>"
      ]
     },
     "metadata": {},
     "output_type": "display_data"
    }
   ],
   "source": [
    "df5.plot(x='Group code', y=['DurSum'], kind=\"bar\", figsize=(9, 8))\n",
    "mp.show()"
   ]
  },
  {
   "cell_type": "code",
   "execution_count": null,
   "id": "3946d638",
   "metadata": {},
   "outputs": [
    {
     "data": {
      "text/html": [
       "<div>\n",
       "<style scoped>\n",
       "    .dataframe tbody tr th:only-of-type {\n",
       "        vertical-align: middle;\n",
       "    }\n",
       "\n",
       "    .dataframe tbody tr th {\n",
       "        vertical-align: top;\n",
       "    }\n",
       "\n",
       "    .dataframe thead th {\n",
       "        text-align: right;\n",
       "    }\n",
       "</style>\n",
       "<table border=\"1\" class=\"dataframe\">\n",
       "  <thead>\n",
       "    <tr style=\"text-align: right;\">\n",
       "      <th></th>\n",
       "      <th>Shift</th>\n",
       "      <th>DurInMin</th>\n",
       "    </tr>\n",
       "  </thead>\n",
       "  <tbody>\n",
       "    <tr>\n",
       "      <th>0</th>\n",
       "      <td>I</td>\n",
       "      <td>202920</td>\n",
       "    </tr>\n",
       "    <tr>\n",
       "      <th>1</th>\n",
       "      <td>II</td>\n",
       "      <td>165075</td>\n",
       "    </tr>\n",
       "    <tr>\n",
       "      <th>2</th>\n",
       "      <td>III</td>\n",
       "      <td>166115</td>\n",
       "    </tr>\n",
       "  </tbody>\n",
       "</table>\n",
       "</div>"
      ],
      "text/plain": [
       "  Shift  DurInMin\n",
       "0     I    202920\n",
       "1    II    165075\n",
       "2   III    166115"
      ]
     },
     "execution_count": 41,
     "metadata": {},
     "output_type": "execute_result"
    }
   ],
   "source": [
    "df6 = df.groupby(['Shift'])['DurInMin'].sum().reset_index(name ='DurInMin')\n",
    "df6"
   ]
  },
  {
   "cell_type": "code",
   "execution_count": null,
   "id": "1bce999d",
   "metadata": {},
   "outputs": [
    {
     "data": {
      "image/png": "[encoded data removed]",
      "text/plain": [
       "<Figure size 900x800 with 1 Axes>"
      ]
     },
     "metadata": {},
     "output_type": "display_data"
    }
   ],
   "source": [
    "# plot the dataframe\n",
    "df6.plot(x='Shift', y=['DurInMin'], kind=\"bar\", figsize=(9, 8))\n",
    "mp.show()"
   ]
  },
  {
   "cell_type": "code",
   "execution_count": 76,
   "id": "b61d52c7",
   "metadata": {},
   "outputs": [],
   "source": [
    "df7=df.groupby(['Group code', 'Cause code']).size().nlargest(10).reset_index(name='FreqCount')"
   ]
  },
  {
   "cell_type": "code",
   "execution_count": 78,
   "id": "a874d59f",
   "metadata": {},
   "outputs": [
    {
     "data": {
      "text/plain": [
       "<Axes: xlabel='Group code', ylabel='Group code'>"
      ]
     },
     "execution_count": 78,
     "metadata": {},
     "output_type": "execute_result"
    },
    {
     "data": {
      "image/png": "[encoded data removed]",
      "text/plain": [
       "<Figure size 640x480 with 1 Axes>"
      ]
     },
     "metadata": {},
     "output_type": "display_data"
    }
   ],
   "source": [
    "#df7=df.groupby(['Group code', 'Cause code']).size().nlargest(10).reset_index(name='FreqCount')\n",
    "ax = df7.plot.scatter(x=\"Cause code\", y=\"Group code\", color=\"Blue\", label=\"Group code\")\n",
    "df7.plot.bar(x=\"Group code\", y=\"Cause code\", color=\"Green\", label=\"Cause code\", ax=ax)"
   ]
  },
  {
   "cell_type": "code",
   "execution_count": null,
   "id": "440e62a5",
   "metadata": {},
   "outputs": [],
   "source": []
  }
 ],
 "metadata": {
  "kernelspec": {
   "display_name": "Python 3",
   "language": "python",
   "name": "python3"
  },
  "language_info": {
   "codemirror_mode": {
    "name": "ipython",
    "version": 3
   },
   "file_extension": ".py",
   "mimetype": "text/x-python",
   "name": "python",
   "nbconvert_exporter": "python",
   "pygments_lexer": "ipython3",
   "version": "3.11.3"
  },
  "vscode": {
   "interpreter": {
    "hash": "0c880bf50398c9e6ebbd48c247ea31cff5c6f8ce48b9cfb1b78e929d6cc40437"
   }
  }
 },
 "nbformat": 4,
 "nbformat_minor": 5
}
